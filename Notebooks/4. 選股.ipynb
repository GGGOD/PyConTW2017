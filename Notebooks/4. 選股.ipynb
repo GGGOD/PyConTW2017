{
 "cells": [
  {
   "cell_type": "markdown",
   "metadata": {},
   "source": [
    "## 載入所需的模組"
   ]
  },
  {
   "cell_type": "code",
   "execution_count": 1,
   "metadata": {
    "collapsed": false
   },
   "outputs": [],
   "source": [
    "# Pandas v0.16 之前，使用下面這個\n",
    "# import pandas.io.data as web\n",
    "\n",
    "# Pandas v0.16 之後，使用下面這個\n",
    "import pandas_datareader.data as web\n",
    "\n",
    "from datetime import datetime\n",
    "import numpy as np"
   ]
  },
  {
   "cell_type": "markdown",
   "metadata": {},
   "source": [
    "## 讀取歷史股價"
   ]
  },
  {
   "cell_type": "code",
   "execution_count": null,
   "metadata": {
    "collapsed": true
   },
   "outputs": [],
   "source": [
    "df=web.DataReader(\"FSLR\", 'yahoo', datetime(2014,1,1))"
   ]
  },
  {
   "cell_type": "markdown",
   "metadata": {},
   "source": [
    "## 計算每天的股價變化"
   ]
  },
  {
   "cell_type": "code",
   "execution_count": null,
   "metadata": {
    "collapsed": true
   },
   "outputs": [],
   "source": [
    "dailyRet = df['Close'].pct_change()"
   ]
  },
  {
   "cell_type": "markdown",
   "metadata": {},
   "source": [
    "## 計算波動率"
   ]
  },
  {
   "cell_type": "code",
   "execution_count": null,
   "metadata": {
    "collapsed": false
   },
   "outputs": [],
   "source": [
    "dailyRet.std() * np.sqrt(dailyRet.count())"
   ]
  },
  {
   "cell_type": "markdown",
   "metadata": {},
   "source": [
    "## 將上面的計算寫成函式，方便之後呼叫"
   ]
  },
  {
   "cell_type": "code",
   "execution_count": 4,
   "metadata": {
    "collapsed": true
   },
   "outputs": [],
   "source": [
    "def volatility(symbol):\n",
    "    df=web.DataReader(symbol, 'yahoo', datetime(2016,1,1))\n",
    "    dailyRet = df['Close'].pct_change()\n",
    "    return dailyRet.std() * np.sqrt(dailyRet.count())"
   ]
  },
  {
   "cell_type": "markdown",
   "metadata": {},
   "source": [
    "## 測試一下"
   ]
  },
  {
   "cell_type": "code",
   "execution_count": 5,
   "metadata": {
    "collapsed": false
   },
   "outputs": [
    {
     "data": {
      "text/plain": [
       "[(0.23201821469828379, 'MSFT'),\n",
       " (0.4040192309448663, 'TSLA'),\n",
       " (0.20515724303608354, 'GOOG'),\n",
       " (0.24454371148436621, 'AAPL')]"
      ]
     },
     "execution_count": 5,
     "metadata": {},
     "output_type": "execute_result"
    }
   ],
   "source": [
    "companies = ['MSFT', 'TSLA', 'GOOG', 'AAPL']\n",
    "results = []\n",
    "for symbol in companies:\n",
    "    v = volatility(symbol)\n",
    "    results.append((v, symbol))\n",
    "results"
   ]
  },
  {
   "cell_type": "code",
   "execution_count": 7,
   "metadata": {
    "collapsed": true
   },
   "outputs": [],
   "source": [
    "results.sort()"
   ]
  },
  {
   "cell_type": "code",
   "execution_count": 8,
   "metadata": {
    "collapsed": false
   },
   "outputs": [
    {
     "data": {
      "text/plain": [
       "[(0.20515724303608354, 'GOOG'),\n",
       " (0.23201821469828379, 'MSFT'),\n",
       " (0.24454371148436621, 'AAPL'),\n",
       " (0.4040192309448663, 'TSLA')]"
      ]
     },
     "execution_count": 8,
     "metadata": {},
     "output_type": "execute_result"
    }
   ],
   "source": [
    "results"
   ]
  }
 ],
 "metadata": {
  "kernelspec": {
   "display_name": "Python [default]",
   "language": "python",
   "name": "python3"
  },
  "language_info": {
   "codemirror_mode": {
    "name": "ipython",
    "version": 3
   },
   "file_extension": ".py",
   "mimetype": "text/x-python",
   "name": "python",
   "nbconvert_exporter": "python",
   "pygments_lexer": "ipython3",
   "version": "3.5.2"
  }
 },
 "nbformat": 4,
 "nbformat_minor": 1
}
